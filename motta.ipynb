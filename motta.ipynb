{
 "cells": [
  {
   "cell_type": "code",
   "execution_count": 36,
   "metadata": {},
   "outputs": [
    {
     "name": "stdout",
     "output_type": "stream",
     "text": [
      "[1, 2, 3, 4, 5, 6, 7, 8, 9, 10, 11, 12, 13, 14, 15, 16, 17, 18, 19, 20]\n"
     ]
    }
   ],
   "source": [
    "genero = input('Digite o seu gênero, M para masculino e F para feminino: ')\n",
    "if 'M' or 'm' in genero:\n",
    "    alturadapeossa = float(input('Digite aqui a sua altura e vamos lhe informar qual seria o seu peso ideal para o genêro masculino: '))\n",
    "    pesoideal = (alturadapeossa * 72.7) - 58\n",
    "    print (f'O seu peso ideal é: {pesoideal:.2f}')\n",
    "elif 'F' in genero:\n",
    "    alturadapeossa = float(input('Digite aqui a sua altura e vamos lhe informar qual seria o seu peso idealpara o genêro feminino: '))\n",
    "    pesoideal = (alturadapeossa * 62.1) - 44.7\n",
    "    print (f'O seu peso ideal é: {pesoideal:.2f}')"
   ]
  },
  {
   "cell_type": "code",
   "execution_count": null,
   "metadata": {},
   "outputs": [],
   "source": [
    "Pesca = float(input('qual a quantidade da pesca do dia em Kg? '))\n",
    "if Pesca > 50:\n",
    "    PescaExcedente = (Pesca - 50)\n",
    "    multa = PescaExcedente * 4.00\n",
    "    print(f'a pesca de hj excedeu o limite de peso de 50Kg sendo de {PescaExcedente} alem do limite gerando uma multe de R${multa}')"
   ]
  },
  {
   "cell_type": "code",
   "execution_count": null,
   "metadata": {},
   "outputs": [],
   "source": [
    "salario_H = float(input('Quanto é sua hora de trabalho? '))\n",
    "H_trabalhada = int(input('Quantas horas trabalhou este mês? '))\n",
    "salario_B = salario_H * H_trabalhada\n",
    "if salario_B > 1903.98:\n",
    "    IR = salario_B * 0.11\n",
    "else:\n",
    "    IR = 0\n",
    "INSS = salario_B * 0.08\n",
    "sindicato = salario_B * 0.05 \n",
    "salario_L = salario_B - IR - INSS - sindicato\n",
    "print(f'''Salário bruto = R$:{salario_B:.2f}\n",
    "imposto de renda = R$:{IR:.2f}\n",
    "INSS = R$:{INSS:.2f}\n",
    "contribuiçao sindical = R$:{sindicato:.2f}\n",
    "salário líquido = R${salario_L:.2f}''')"
   ]
  },
  {
   "cell_type": "code",
   "execution_count": null,
   "metadata": {},
   "outputs": [],
   "source": [
    "I = 0\n",
    "idade_altura = []\n",
    "while I < 5:\n",
    "    idade = int(input(\"qual sua idade? \"))\n",
    "    altura = float(input('qual sua altura?'))\n",
    "    idadealtura = (idade,altura)\n",
    "    idade_altura.append(idadealtura)\n",
    "    I+=1\n",
    "print(idade_altura[::-1])"
   ]
  },
  {
   "cell_type": "code",
   "execution_count": null,
   "metadata": {},
   "outputs": [],
   "source": [
    "import math\n",
    "A = [1,2,3,4,5,6,7,8,9,10]\n",
    "lista =[]\n",
    "for a in A:\n",
    "    expoente = a*a\n",
    "    lista.append(expoente)\n",
    "print(lista)\n",
    "print(sum(lista))"
   ]
  },
  {
   "cell_type": "code",
   "execution_count": null,
   "metadata": {},
   "outputs": [],
   "source": [
    "lista1 = [1,3,5,7,9,11,13,15,17,19]\n",
    "lista2 = [2,4,6,8,10,12,14,16,18,20]\n",
    "lista3 = []\n",
    "for i in range(10):\n",
    "    lista3.append(lista1[i])\n",
    "    lista3.append(lista2[i])\n",
    "print(lista3)"
   ]
  }
 ],
 "metadata": {
  "kernelspec": {
   "display_name": "Python 3.10.7 64-bit",
   "language": "python",
   "name": "python3"
  },
  "language_info": {
   "codemirror_mode": {
    "name": "ipython",
    "version": 3
   },
   "file_extension": ".py",
   "mimetype": "text/x-python",
   "name": "python",
   "nbconvert_exporter": "python",
   "pygments_lexer": "ipython3",
   "version": "3.10.7"
  },
  "orig_nbformat": 4,
  "vscode": {
   "interpreter": {
    "hash": "6508145cc586fb0b7881ab908270c326db18e38484ce76e66340999312d24d0f"
   }
  }
 },
 "nbformat": 4,
 "nbformat_minor": 2
}
